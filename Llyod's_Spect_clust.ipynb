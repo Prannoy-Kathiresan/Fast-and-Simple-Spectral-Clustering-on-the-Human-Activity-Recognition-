{
 "cells": [
  {
   "cell_type": "markdown",
   "metadata": {},
   "source": [
    "# Computing Running time, ARI, NMI through un-normalized Laplacian matrix for our understanding"
   ]
  },
  {
   "cell_type": "code",
   "execution_count": 1,
   "metadata": {
    "id": "fGrOrck_Tte9"
   },
   "outputs": [],
   "source": [
    "from sklearn.datasets import fetch_openml\n",
    "from sklearn.neighbors import kneighbors_graph\n",
    "from sklearn.cluster import SpectralClustering, KMeans\n",
    "from sklearn.metrics import adjusted_rand_score, normalized_mutual_info_score\n",
    "from sklearn.decomposition import PCA\n",
    "import numpy as np\n",
    "import matplotlib.pyplot as plt\n",
    "import time"
   ]
  },
  {
   "cell_type": "code",
   "execution_count": 2,
   "metadata": {
    "id": "7fhm58DjsbEH"
   },
   "outputs": [],
   "source": [
    "def Lloyds_algo(data, num_clusters, tolerance, max_iterations=1000):\n",
    "  data= np.array(data)\n",
    "  random_choice = np.random.choice(data.shape[0], num_clusters)\n",
    "  x = data[random_choice]\n",
    "  prev_distortion = None\n",
    "  iterations = 0\n",
    "\n",
    "  for i in range(max_iterations):\n",
    "    diff= data - x.reshape(x.shape[0],1,x.shape[1])\n",
    "    diff_squared = diff **2\n",
    "    diff_squared_sum = np.sum(diff_squared, axis=2)\n",
    "    euclid= np.sqrt(diff_squared_sum)\n",
    "    p_ij = np.argmin(euclid, axis=0)\n",
    "\n",
    "    x_new = np.array([data[p_ij == i].mean(axis=0) for i in range(num_clusters)])\n",
    "\n",
    "    distortion = 0\n",
    "    for j in range(num_clusters):\n",
    "      distortion += np.sum((data[p_ij == j] - x[j]) ** 2) #/data1[p_ij == j].shape[0] #np.sum(data1[p_ij == j] ** 2)\n",
    "\n",
    "    if np.linalg.norm(x_new - x) < tolerance or (prev_distortion is not None and np.linalg.norm(distortion - prev_distortion) < tolerance): #tolerance:\n",
    "      break\n",
    "\n",
    "    x = x_new\n",
    "    prev_distortion = distortion\n",
    "    iterations+=1\n",
    "\n",
    "  return x, p_ij, distortion, num_clusters"
   ]
  },
  {
   "cell_type": "code",
   "execution_count": 3,
   "metadata": {
    "id": "X2BfYNm4bORE"
   },
   "outputs": [],
   "source": [
    "def kmeans_algorithm(data, num_clusters, tolerance, max_iterations=1000):\n",
    "    kmeans = KMeans(n_clusters=num_clusters, init='random', n_init=1, max_iter=max_iterations, tol=tolerance)\n",
    "    kmeans.fit(data)\n",
    "    centroids = kmeans.cluster_centers_\n",
    "    labels = kmeans.labels_\n",
    "    distortion = kmeans.inertia_\n",
    "    running_time = kmeans.n_iter_\n",
    "\n",
    "    return centroids, labels, distortion, num_clusters"
   ]
  },
  {
   "cell_type": "code",
   "execution_count": 3,
   "metadata": {
    "id": "Ms-ObcqMRoF7"
   },
   "outputs": [],
   "source": [
    "def Spectral_clustering_knn_connectivity(data,K,k):\n",
    "  A=kneighbors_graph(data,k, mode='connectivity')\n",
    "  A=A.toarray()\n",
    "  d_mat_k=np.zeros_like(A)\n",
    "  for i in range(len(A)):\n",
    "    d_mat_k[i][i]=np.sum(A[i])\n",
    "  L_mat_k = d_mat_k - A\n",
    "  eigenvalues_k, eigenvectors_k = np.linalg.eig(L_mat_k)\n",
    "  sorted_indices_k = np.argsort(eigenvalues_k)#[::-1]\n",
    "  sorted_eigenvalues_k = eigenvalues_k[sorted_indices_k]\n",
    "  sorted_eigenvectors_k = eigenvectors_k[:, sorted_indices_k]\n",
    "  first_k_eigenvectors_k = sorted_eigenvectors_k[:,:K]\n",
    "  # first_k_eigenvectors_k\n",
    "  # sorted_eigenvectors_k\n",
    "  x, p_ij, distortion, num_clusters = Lloyds_algo(first_k_eigenvectors_k,K,1e-5)\n",
    "  # x, p_ij, distortion, num_clusters = kmeans_algorithm(first_k_eigenvectors_k,K,1e-5)\n",
    "\n",
    "  return x, p_ij, distortion, num_clusters, A, first_k_eigenvectors_k"
   ]
  },
  {
   "cell_type": "code",
   "execution_count": 4,
   "metadata": {
    "id": "XZ3CClo0Nzh_"
   },
   "outputs": [],
   "source": [
    "def Spectral_clustering_knn_distance(data,K,k):\n",
    "  A=kneighbors_graph(data,k, mode='distance')\n",
    "  A=A.toarray()\n",
    "  d_mat_k=np.zeros_like(A)\n",
    "  for i in range(len(A)):\n",
    "    d_mat_k[i][i]=np.sum(A[i])\n",
    "  L_mat_k = d_mat_k - A\n",
    "  eigenvalues_k, eigenvectors_k = np.linalg.eig(L_mat_k)\n",
    "  sorted_indices_k = np.argsort(eigenvalues_k)#[::-1]\n",
    "  sorted_eigenvalues_k = eigenvalues_k[sorted_indices_k]\n",
    "  sorted_eigenvectors_k = eigenvectors_k[:, sorted_indices_k]\n",
    "  first_k_eigenvectors_k = sorted_eigenvectors_k[:,:K]\n",
    "  # first_k_eigenvectors_k\n",
    "  # sorted_eigenvectors_k\n",
    "  x, p_ij, distortion, num_clusters = Lloyds_algo(first_k_eigenvectors_k,K,1e-5)\n",
    "  # x, p_ij, distortion, num_clusters = kmeans_algorithm(first_k_eigenvectors_k,K,1e-5)\n",
    "\n",
    "  return x, p_ij, distortion, num_clusters, A, first_k_eigenvectors_k"
   ]
  },
  {
   "cell_type": "code",
   "execution_count": 5,
   "metadata": {
    "colab": {
     "base_uri": "https://localhost:8080/",
     "height": 0
    },
    "id": "a9Z7sYIWR4Kb",
    "outputId": "bb10ddf5-16f5-46a4-bb72-31934ae26fdb"
   },
   "outputs": [
    {
     "name": "stderr",
     "output_type": "stream",
     "text": [
      "/usr/local/lib/python3.10/dist-packages/sklearn/datasets/_openml.py:968: FutureWarning: The default value of `parser` will change from `'liac-arff'` to `'auto'` in 1.4. You can set `parser='auto'` to silence this warning. Therefore, an `ImportError` will be raised from 1.4 if the dataset is dense and pandas is not installed. Note that the pandas parser may return different data types. See the Notes Section in fetch_openml's API doc for details.\n",
      "  warn(\n"
     ]
    }
   ],
   "source": [
    "# Load the HAR dataset (assuming it's available in scikit-learn)\n",
    "har = fetch_openml(name='har')\n",
    "\n",
    "# Extract features (X) and labels (y)\n",
    "X = har.data\n",
    "y = har.target"
   ]
  },
  {
   "cell_type": "code",
   "execution_count": 6,
   "metadata": {
    "id": "2zDUR4U3Ps3W"
   },
   "outputs": [],
   "source": [
    "start_conn = time.time()\n",
    "x_knn_conn, p_ij_knn_conn, distortion_knn_conn, num_clusters_knn_conn, adj_knn_conn, first_k_eigenvectors_conn = Spectral_clustering_knn_connectivity(X,len(np.unique(y)),10)\n",
    "end_conn = time.time()\n",
    "running_time_conn = end_conn - start_conn\n",
    "\n",
    "ari_conn = adjusted_rand_score(y, p_ij_knn_conn)\n",
    "nmi_conn = normalized_mutual_info_score(y, p_ij_knn_conn)"
   ]
  },
  {
   "cell_type": "code",
   "execution_count": 7,
   "metadata": {
    "id": "q4iSV5FEOlgL"
   },
   "outputs": [],
   "source": [
    "start_dist = time.time()\n",
    "x_knn_dist, p_ij_knn_dist, distortion_knn_dist, num_clusters_knn_dist, adj_knn_dist, first_k_eigenvectors_dist = Spectral_clustering_knn_distance(X,len(np.unique(y)),10)\n",
    "end_dist = time.time()\n",
    "running_time_dist = end_dist - start_dist\n",
    "\n",
    "ari_dist = adjusted_rand_score(y, p_ij_knn_dist)\n",
    "nmi_dist = normalized_mutual_info_score(y, p_ij_knn_dist)"
   ]
  },
  {
   "cell_type": "code",
   "execution_count": 10,
   "metadata": {
    "colab": {
     "base_uri": "https://localhost:8080/",
     "height": 0
    },
    "id": "S1XlPPaGD8x2",
    "outputId": "6fb159b8-b763-46a9-953d-23a3e9982b70"
   },
   "outputs": [
    {
     "name": "stdout",
     "output_type": "stream",
     "text": [
      "-----------------------------------------------------------------------------------------------\n",
      "Spectral Clustering using k-eigenvectors | Mode = connectivity\n",
      "-----------------------------------------------------------------------------------------------\n",
      "Adjusted Rand Index (ARI): 0.49861484933924655\n",
      "Normalized Mutual Information (NMI): 0.6971583494219175\n",
      "Running time for normal Spectral Clustering (k-nearest neighbors) is:  1189.0399975776672\n",
      "\n",
      "\n",
      "-----------------------------------------------------------------------------------------------\n",
      "Spectral Clustering using k-eigenvectors | Mode = distance\n",
      "-----------------------------------------------------------------------------------------------\n",
      "Adjusted Rand Index (ARI): 0.33226710176178137\n",
      "Normalized Mutual Information (NMI): 0.5473060829884699\n",
      "Running time for normal Spectral Clustering (k-nearest neighbors) is:  1078.832494020462\n",
      "-----------------------------------------------------------------------------------------------\n"
     ]
    }
   ],
   "source": [
    "print(\"-----------------------------------------------------------------------------------------------\")\n",
    "print(\"Spectral Clustering using k-eigenvectors | Mode = connectivity\")\n",
    "print(\"-----------------------------------------------------------------------------------------------\")\n",
    "print(\"Adjusted Rand Index (ARI):\", ari_conn)\n",
    "print(\"Normalized Mutual Information (NMI):\", nmi_conn)\n",
    "print(\"Running time for normal Spectral Clustering (k-nearest neighbors) is: \", running_time_conn)\n",
    "print(\"\\n\")\n",
    "print(\"-----------------------------------------------------------------------------------------------\")\n",
    "print(\"Spectral Clustering using k-eigenvectors | Mode = distance\")\n",
    "print(\"-----------------------------------------------------------------------------------------------\")\n",
    "print(\"Adjusted Rand Index (ARI):\", ari_dist)\n",
    "print(\"Normalized Mutual Information (NMI):\", nmi_dist)\n",
    "print(\"Running time for normal Spectral Clustering (k-nearest neighbors) is: \", running_time_dist)\n",
    "print(\"-----------------------------------------------------------------------------------------------\")"
   ]
  }
 ],
 "metadata": {
  "colab": {
   "provenance": []
  },
  "kernelspec": {
   "display_name": "Python 3 (ipykernel)",
   "language": "python",
   "name": "python3"
  },
  "language_info": {
   "codemirror_mode": {
    "name": "ipython",
    "version": 3
   },
   "file_extension": ".py",
   "mimetype": "text/x-python",
   "name": "python",
   "nbconvert_exporter": "python",
   "pygments_lexer": "ipython3",
   "version": "3.9.12"
  }
 },
 "nbformat": 4,
 "nbformat_minor": 1
}
